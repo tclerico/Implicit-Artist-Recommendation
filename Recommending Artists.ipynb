{
 "cells": [
  {
   "cell_type": "code",
   "execution_count": 1,
   "metadata": {},
   "outputs": [],
   "source": [
    "# used for manipulating directory paths\n",
    "import os\n",
    "\n",
    "# Scientific and vector computation for python\n",
    "import numpy as np\n",
    "\n",
    "# Plotting library\n",
    "import matplotlib.pyplot as plt\n",
    "import matplotlib as mpl\n",
    "import matplotlib.cm as cm\n",
    "\n",
    "# Optimization module in scipy\n",
    "from scipy import optimize\n",
    "\n",
    "# will be used to load MATLAB mat datafile format\n",
    "from scipy.io import loadmat\n",
    "%matplotlib inline\n",
    "\n",
    "import sklearn\n",
    "from sklearn import metrics\n",
    "import pandas as pd\n",
    "import scipy.sparse as sparse\n",
    "from scipy.sparse import csr_matrix\n",
    "from scipy.sparse.linalg import spsolve\n",
    "from scipy import stats\n",
    "\n",
    "import implicit\n",
    "import random\n",
    "\n",
    "#from tqdm import tqdm"
   ]
  },
  {
   "cell_type": "code",
   "execution_count": 56,
   "metadata": {},
   "outputs": [],
   "source": [
    "# loads in all artist names to compare against\n",
    "with open(\"artists.txt\" , 'r') as f:\n",
    "    lines = f.readlines()\n",
    "artist_names = [x.strip() for x in lines]"
   ]
  },
  {
   "cell_type": "code",
   "execution_count": 57,
   "metadata": {},
   "outputs": [
    {
     "name": "stdout",
     "output_type": "stream",
     "text": [
      "(145955, 145955)\n"
     ]
    }
   ],
   "source": [
    "# matrix with identity but no symmetry\n",
    "no_sym = sparse.csr_matrix(sparse.load_npz('no_sym.npz')[:])\n",
    "print(no_sym.shape)"
   ]
  },
  {
   "cell_type": "code",
   "execution_count": 3,
   "metadata": {},
   "outputs": [
    {
     "name": "stdout",
     "output_type": "stream",
     "text": [
      "(146050, 146050)\n"
     ]
    }
   ],
   "source": [
    "test_live = sparse.csr_matrix(sparse.load_npz('live.npz')[:])\n",
    "print(test_live.shape)"
   ]
  },
  {
   "cell_type": "code",
   "execution_count": 59,
   "metadata": {},
   "outputs": [
    {
     "name": "stderr",
     "output_type": "stream",
     "text": [
      "100%|██████████| 50.0/50 [01:03<00:00,  1.37s/it]\n"
     ]
    }
   ],
   "source": [
    "alpha = 15\n",
    "live_model = implicit.als.AlternatingLeastSquares(factors=32, regularization=0.1, iterations=50)\n",
    "live_model.fit((alpha*test_live).astype('double'))"
   ]
  },
  {
   "cell_type": "code",
   "execution_count": 19,
   "metadata": {},
   "outputs": [
    {
     "name": "stderr",
     "output_type": "stream",
     "text": [
      "WARNING:root:Intel MKL BLAS detected. Its highly recommend to set the environment variable 'export MKL_NUM_THREADS=1' to disable its internal multithreading\n",
      "100%|██████████| 50.0/50 [00:48<00:00,  1.02it/s]\n"
     ]
    }
   ],
   "source": [
    "# Train Implicit ALS Model on data\n",
    "alpha = 15\n",
    "sym_model = implicit.als.AlternatingLeastSquares(factors=32, regularization = 0.1, iterations=50)\n",
    "sym_model.fit((no_sym*alpha).astype('double'))\n",
    "sym_user_vecs = sym_model.user_factors\n",
    "sym_item_vecs = sym_model.item_factors"
   ]
  },
  {
   "cell_type": "code",
   "execution_count": 114,
   "metadata": {},
   "outputs": [
    {
     "name": "stdout",
     "output_type": "stream",
     "text": [
      "20447\n"
     ]
    }
   ],
   "source": [
    "print(artist_names.index(\"The Beatles\"))"
   ]
  },
  {
   "cell_type": "markdown",
   "metadata": {},
   "source": [
    "# Testing for a single seed artist"
   ]
  },
  {
   "cell_type": "code",
   "execution_count": 115,
   "metadata": {},
   "outputs": [],
   "source": [
    "#Creating a test 'selected artists' with one artist selected\n",
    "test_seed = np.zeros(no_sym.shape[0])\n",
    "test_seed[20448]=1\n",
    "\n",
    "og_seed = no_sym[16083,:]\n",
    "\n",
    "#Out of sample artist recommendation\n",
    "use_item = sym_model.recommend(0, csr_matrix(test_seed),N=10, recalculate_user=True)\n",
    "#with_full = sym_model.recommend(0, og_seed, N=10, recalculate_user=True)\n",
    "\n"
   ]
  },
  {
   "cell_type": "code",
   "execution_count": 10,
   "metadata": {},
   "outputs": [],
   "source": [
    "# Print out recommendations for the single artist and the artists that are similar to that artist\n",
    "def print_artists(scores):\n",
    "    for item in range(0,len(scores)):\n",
    "        print(str(artist_names[scores[item][0]-1])+\" \"+str(scores[item][1]) +\" - \"+ str(scores[item][0]))\n"
   ]
  },
  {
   "cell_type": "code",
   "execution_count": 117,
   "metadata": {},
   "outputs": [
    {
     "name": "stdout",
     "output_type": "stream",
     "text": [
      "Led Zeppelin 0.0032522386489351844 - 7766\n",
      "The Band 0.003183191281445488 - 12698\n",
      "Love 0.0031292302759887477 - 4422\n",
      "The Kinks 0.0028920581728860595 - 12699\n",
      "Queen 0.002737956278295213 - 11225\n",
      "Jimi Hendrix 0.002726275066474113 - 7753\n",
      "King Crimson 0.0027009934373283524 - 4420\n",
      "Bachman-Turner Overdrive 0.0026759137795504878 - 2607\n",
      "Don Henley 0.0026518129751474427 - 2595\n",
      "Traffic 0.002504247683185352 - 4559\n"
     ]
    }
   ],
   "source": [
    "print_artists(use_item)"
   ]
  },
  {
   "cell_type": "markdown",
   "metadata": {},
   "source": [
    "## Testing for the Implicit explain( ) function"
   ]
  },
  {
   "cell_type": "code",
   "execution_count": 124,
   "metadata": {},
   "outputs": [
    {
     "name": "stdout",
     "output_type": "stream",
     "text": [
      "The Beatles 0.0032522386489351853 - 20448\n"
     ]
    }
   ],
   "source": [
    "total, top, weights = sym_model.explain(0, csr_matrix(test_seed), 7766)\n",
    "\n",
    "print_artists(top)\n",
    "    \n",
    "\n"
   ]
  },
  {
   "cell_type": "markdown",
   "metadata": {},
   "source": [
    "# Testing for multiple seed artists"
   ]
  },
  {
   "cell_type": "code",
   "execution_count": 8,
   "metadata": {},
   "outputs": [],
   "source": [
    "first = artist_names.index(\"The Rolling Stones\") + 1\n",
    "second = artist_names.index(\"Grateful Dead\") + 1\n",
    "third = artist_names.index(\"\") + 1\n",
    "\n",
    "multi_seed = np.zeros(live_model.user_factors.shape[0])\n",
    "multi_seed[first] = 1\n",
    "multi_seed[second] = 1\n",
    "multi_seed[third] = 1\n",
    "\n",
    "multi_test = live_model.recommend(0, csr_matrix(multi_seed), N=, recalculate_user=True)"
   ]
  },
  {
   "cell_type": "code",
   "execution_count": 9,
   "metadata": {},
   "outputs": [
    {
     "name": "stdout",
     "output_type": "stream",
     "text": [
      "Led Zeppelin 0.0005195717501492402 - 7766\n",
      "The Band 0.0005084689314695547 - 12698\n",
      "Love 0.0005052894552496101 - 4422\n",
      "The Kinks 0.0004699800938399983 - 12699\n",
      "Queen 0.0004519250654976027 - 11225\n",
      "King Crimson 0.00043828443437773793 - 4420\n",
      "Jimi Hendrix 0.00043282502377056924 - 7753\n",
      "Bachman-Turner Overdrive 0.0004207866979215643 - 2607\n",
      "Don Henley 0.00041676774428411136 - 2595\n",
      "Descendent 0.000394727278181132 - 12697\n",
      "The Velvet Underground 0.0003924041513682547 - 12702\n",
      "Traffic 0.0003903777103867792 - 4559\n",
      "Peter Frampton 0.0003878542496687696 - 4558\n",
      "The J. Geils Band 0.00038778175762950223 - 2596\n",
      "Microcosms 0.0003861282897519213 - 53019\n",
      "Little River Band 0.0003832973694540801 - 2612\n",
      "America 0.00038112366083270613 - 2906\n",
      "Jackson Browne 0.0003766571657314561 - 2903\n",
      "Dan Sadin 0.00037627308157962727 - 29255\n",
      "Shana Cleveland 0.0003758100868312723 - 22080\n"
     ]
    }
   ],
   "source": [
    "print_artists(multi_test)"
   ]
  },
  {
   "cell_type": "code",
   "execution_count": 13,
   "metadata": {},
   "outputs": [
    {
     "name": "stdout",
     "output_type": "stream",
     "text": [
      "The Rolling Stones 0.0003924041513682548 - 90350\n"
     ]
    }
   ],
   "source": [
    "total, top, weights = live_model.explain(0, csr_matrix(multi_seed), 12702)\n",
    "print_artists(top)"
   ]
  },
  {
   "cell_type": "code",
   "execution_count": 17,
   "metadata": {},
   "outputs": [
    {
     "name": "stdout",
     "output_type": "stream",
     "text": [
      "Terry Tufts\n",
      "Robokid\n",
      "Reverend Billy C. Wirtz\n"
     ]
    }
   ],
   "source": [
    "num = 59313\n",
    "print(artist_names[num])\n",
    "print(artist_names[num-1])\n",
    "print(artist_names[num+1])"
   ]
  },
  {
   "cell_type": "markdown",
   "metadata": {},
   "source": [
    "## GRAPHING"
   ]
  },
  {
   "cell_type": "code",
   "execution_count": 4,
   "metadata": {},
   "outputs": [
    {
     "name": "stderr",
     "output_type": "stream",
     "text": [
      "100%|██████████| 25.0/25 [00:29<00:00,  1.18s/it]\n"
     ]
    }
   ],
   "source": [
    "alpha = 15\n",
    "live_model = implicit.als.AlternatingLeastSquares(factors=32, regularization=0.1, iterations=25)\n",
    "live_model.fit((alpha*test_live).astype('double'))"
   ]
  },
  {
   "cell_type": "code",
   "execution_count": 67,
   "metadata": {},
   "outputs": [],
   "source": [
    "first = artist_names.index('Bob Marley & The Wailers') + 1\n",
    "second = artist_names.index('Double Tiger') + 1\n",
    "third = artist_names.index('The Beatles') + 1\n",
    "fourth = artist_names.index('Kanye West') + 1\n",
    "\n",
    "seed = np.zeros(live_model.user_factors.shape[0])\n",
    "seed[first] = 1\n",
    "seed[second] = 1\n",
    "seed[third] = 1\n",
    "seed[fourth] = 1\n",
    "\n",
    "data = live_model.recommend(0, csr_matrix(seed), N=live_model.user_factors.shape[0], recalculate_user=True)"
   ]
  },
  {
   "cell_type": "code",
   "execution_count": 68,
   "metadata": {},
   "outputs": [
    {
     "data": {
      "text/plain": [
       "<matplotlib.collections.PathCollection at 0x1a2dd406d8>"
      ]
     },
     "execution_count": 68,
     "metadata": {},
     "output_type": "execute_result"
    },
    {
     "data": {
      "image/png": "[encoded data removed]",
      "text/plain": [
       "<Figure size 360x288 with 1 Axes>"
      ]
     },
     "metadata": {
      "needs_background": "light"
     },
     "output_type": "display_data"
    }
   ],
   "source": [
    "ids = []\n",
    "scores = []\n",
    "for rank in data:\n",
    "    ids.append(rank[0])\n",
    "    scores.append(rank[1])\n",
    "    \n",
    "\n",
    "sort = np.sort(scores)\n",
    "#plt.plot(sort)\n",
    "plt.figure(1, figsize=(5,4))\n",
    "plt.scatter(ids, scores, s=0.5)"
   ]
  },
  {
   "cell_type": "code",
   "execution_count": 69,
   "metadata": {},
   "outputs": [
    {
     "data": {
      "text/plain": [
       "[<matplotlib.lines.Line2D at 0x1a29a925f8>]"
      ]
     },
     "execution_count": 69,
     "metadata": {},
     "output_type": "execute_result"
    },
    {
     "data": {
      "image/png": "[encoded data removed]",
      "text/plain": [
       "<Figure size 432x288 with 1 Axes>"
      ]
     },
     "metadata": {
      "needs_background": "light"
     },
     "output_type": "display_data"
    }
   ],
   "source": [
    "test = sort.copy()\n",
    "info = test[140000:]\n",
    "plt.plot(info)"
   ]
  },
  {
   "cell_type": "code",
   "execution_count": null,
   "metadata": {},
   "outputs": [],
   "source": []
  }
 ],
 "metadata": {
  "kernelspec": {
   "display_name": "Python 3",
   "language": "python",
   "name": "python3"
  },
  "language_info": {
   "codemirror_mode": {
    "name": "ipython",
    "version": 3
   },
   "file_extension": ".py",
   "mimetype": "text/x-python",
   "name": "python",
   "nbconvert_exporter": "python",
   "pygments_lexer": "ipython3",
   "version": "3.7.3"
  }
 },
 "nbformat": 4,
 "nbformat_minor": 2
}
